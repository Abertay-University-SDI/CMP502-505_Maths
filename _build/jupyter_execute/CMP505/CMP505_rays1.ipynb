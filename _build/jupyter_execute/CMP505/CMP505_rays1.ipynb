{
 "cells": [
  {
   "cell_type": "markdown",
   "metadata": {
    "id": "ZSph5-5oh0fq"
   },
   "source": [
    "# Ray Tracing\n",
    "Now that we are used to many of the tools and techniques to visualise objects, rotate and transform them, we can explore how mathematics allows us to check if/how some types of objects *interact* using Python: Ray Tracing."
   ]
  },
  {
   "cell_type": "code",
   "execution_count": 1,
   "metadata": {
    "id": "BYfRggrdhRRm"
   },
   "outputs": [],
   "source": [
    "## Libraries\n",
    "%matplotlib inline\n",
    "import numpy as np\n",
    "import sympy as sym\n",
    "import matplotlib.pyplot as plt\n",
    "from matplotlib.patches import FancyArrowPatch\n",
    "from mpl_toolkits.mplot3d import Axes3D, proj3d"
   ]
  },
  {
   "cell_type": "markdown",
   "metadata": {
    "id": "tLRWgkkAjJIx"
   },
   "source": [
    "First we need to set up a ray and an object: after this we will explore if/how to equate the expressions for a specific value or values of the length along the ray. We will begin, as we did in the lectures, using spheres (or their 2D equivalent, circles) to illustrate the procedure.\n",
    "\n",
    "Before we examine some specific examples, it would be nice to also visualise the examples as we go. We will therefore first set up some of the 3D objects that we will need to plot. First, we will want to visualise a 3D sphere. Lets set up a 3D object in the shape of a sphere:"
   ]
  },
  {
   "cell_type": "code",
   "execution_count": 2,
   "metadata": {
    "id": "CvT6kVEJP2eT"
   },
   "outputs": [],
   "source": [
    "def plt_sphere(center, radius):\n",
    "  \"\"\" function to create and plot a 3D sphere at a given centre and radius\n",
    "  \"\"\"\n",
    "  plt.subplot(projection='3d')\n",
    "  # draw sphere\n",
    "  u, v = np.mgrid[0:2*np.pi:50j, 0:np.pi:50j]\n",
    "  x = radius*np.cos(u)*np.sin(v)+center[0]\n",
    "  y = radius*np.sin(u)*np.sin(v)+center[1]\n",
    "  z = radius*np.cos(v)+center[2]\n",
    "\n",
    "  ax.plot_surface(x, y, z, color=np.random.choice(['g','b']), alpha=0.25)"
   ]
  },
  {
   "cell_type": "markdown",
   "metadata": {
    "id": "2gunUMqkQczd"
   },
   "source": [
    "We will also need to work with vectors, so lets create and use a custom arrow to represent each ray:"
   ]
  },
  {
   "cell_type": "code",
   "execution_count": 3,
   "metadata": {
    "id": "Ux3Ny4KbQcW2"
   },
   "outputs": [],
   "source": [
    "class Arrow3D(FancyArrowPatch):\n",
    "    def __init__(self, xs, ys, zs, *args, **kwargs):\n",
    "        super().__init__((0,0), (0,0), *args, **kwargs)\n",
    "        self._verts3d = xs, ys, zs\n",
    "\n",
    "    def do_3d_projection(self, renderer=None):\n",
    "        xs3d, ys3d, zs3d = self._verts3d\n",
    "        xs, ys, zs = proj3d.proj_transform(xs3d, ys3d, zs3d, self.axes.M)\n",
    "        self.set_positions((xs[0],ys[0]),(xs[1],ys[1]))\n",
    "\n",
    "        return np.min(zs)"
   ]
  },
  {
   "cell_type": "markdown",
   "metadata": {
    "id": "9CzvrU3OP3Iu"
   },
   "source": [
    "## Lecture Example 1: Does a ray intersect a sphere?\n",
    "**Determine if the ray from $(-1,0,3)$ with direction $2\\vec{i}-3\\vec{j}+\\vec{k}$ intersects a sphere with centre $(3,3,3)$ and radius $2$.**\n",
    "\n",
    "First we will set up the ray, which must have an origin and direction. The distance along the ray is determined by a parameter, $t$, which varies $\\in[0,1]$ if the ray has a start and end position, or is simply $>0$ if the ray is infinitely long.\n",
    "\n",
    "In this implementation, Python can handle maths involving unknown values, so we will tell it to create a vector expression describing the ray in terms of the origin plus the vector direction times the symbolic expression \"t\":"
   ]
  },
  {
   "cell_type": "code",
   "execution_count": 4,
   "metadata": {
    "id": "W6e_VGzIjIIU"
   },
   "outputs": [],
   "source": [
    "ray_o = sym.Matrix([[-1, 0, 3]])\n",
    "ray_v = sym.Matrix([[2, 3, 1]])\n",
    "t = sym.Symbol('t', positive=True)\n",
    "ray = ray_o + t * ray_v"
   ]
  },
  {
   "cell_type": "markdown",
   "metadata": {
    "id": "pj040twzpX-c"
   },
   "source": [
    "We want to explore if this ray interacts with the sphere given in the question. The equation of a sphere is, as we know, \n",
    "\n",
    "$$(x-a)^2+(y-b)^2+(z-c)^2 = r^2, \n",
    "$$\n",
    "\n",
    "for a sphere centred on $(a,b,c)$ with radius $r$. \n",
    "\n",
    "We can replicate this in Python, again using symbols for variables $x$, $y$ and $z$. To confirm we have the correct expression, we'll create it and print it:"
   ]
  },
  {
   "cell_type": "code",
   "execution_count": 5,
   "metadata": {
    "colab": {
     "base_uri": "https://localhost:8080/"
    },
    "executionInfo": {
     "elapsed": 10,
     "status": "ok",
     "timestamp": 1683302442624,
     "user": {
      "displayName": "James Threlfall",
      "userId": "12893452708265254015"
     },
     "user_tz": -60
    },
    "id": "HU-0_p3Ejr-X",
    "outputId": "29dd6fdd-3a83-4554-aa2e-2520fd79f51a"
   },
   "outputs": [
    {
     "name": "stdout",
     "output_type": "stream",
     "text": [
      "(x - 3)**2 + (y - 3)**2 + (z - 3)**2 - 4\n"
     ]
    }
   ],
   "source": [
    "sphere_c = sym.Matrix([[3, 3, 3]])\n",
    "sphere_r = 2\n",
    "x, y, z = sym.Symbol('x'), sym.Symbol('y'), sym.Symbol('z') \n",
    "sphere = (x - sphere_c[0])**2+(y - sphere_c[1])**2+(z - sphere_c[2])**2-sphere_r**2\n",
    "print(sphere)"
   ]
  },
  {
   "cell_type": "markdown",
   "metadata": {
    "id": "tF-9gE_wpzdV"
   },
   "source": [
    "In the lectures, we saw that we need to substitute the parametric form of the ray equation into the equation of the sphere, then solve for the value of parameter $t$. We can do this in one line in Python:"
   ]
  },
  {
   "cell_type": "code",
   "execution_count": 6,
   "metadata": {
    "colab": {
     "base_uri": "https://localhost:8080/"
    },
    "executionInfo": {
     "elapsed": 573,
     "status": "ok",
     "timestamp": 1683302443191,
     "user": {
      "displayName": "James Threlfall",
      "userId": "12893452708265254015"
     },
     "user_tz": -60
    },
    "id": "4um5xO2KlW27",
    "outputId": "b141d28e-570d-44f8-d600-aca842e86672"
   },
   "outputs": [
    {
     "name": "stdout",
     "output_type": "stream",
     "text": [
      "[]\n"
     ]
    }
   ],
   "source": [
    "print(sym.solve(sphere.subs([(x, ray[0]), (y, ray[1]), (z, ray[2])]),t))"
   ]
  },
  {
   "cell_type": "markdown",
   "metadata": {
    "id": "5CdZU2p6n-ps"
   },
   "source": [
    "The result is Python's way of saying that it could not find any solutions.\n",
    "\n",
    "We placed a restriction on the parameter t that it must be positive: this tells Python that t cannot be imaginary. If we remove the positive restriction on t, we can determine the complex solutions to this equation. However, complex values means that there are *no* intersections between this sphere and this ray.\n",
    "\n",
    "\n",
    "---\n"
   ]
  },
  {
   "cell_type": "markdown",
   "metadata": {
    "id": "kfw3TSDiQ1Su"
   },
   "source": [
    "We should check this result visually with a plot.\n",
    "\n",
    "So far, we have saved coordinates using sympy's \"matrix\" command, which has allowed us to create 3D vectors for our ray. Sadly, a lot of the plotting routines work with a different data structure, so we'll have to convert important coordinates to the correct datatype in order to plot them:"
   ]
  },
  {
   "cell_type": "code",
   "execution_count": 7,
   "metadata": {
    "id": "oS0qkTYlROAE"
   },
   "outputs": [],
   "source": [
    "ro = np.array(ray_o.tolist()[0],dtype='float64') #convert ray origin to numpy array\n",
    "spc = np.array(sphere_c.tolist()[0],dtype='float64') #convert sphere centre to numpy array"
   ]
  },
  {
   "cell_type": "markdown",
   "metadata": {
    "id": "mCWwoXqwRM_g"
   },
   "source": [
    "Finally, we can plot the sphere in the required location, the directed line segment (ray) and check visually if the objects appear to intersect:"
   ]
  },
  {
   "cell_type": "code",
   "execution_count": 8,
   "metadata": {
    "colab": {
     "base_uri": "https://localhost:8080/",
     "height": 406
    },
    "executionInfo": {
     "elapsed": 1222,
     "status": "ok",
     "timestamp": 1683302444410,
     "user": {
      "displayName": "James Threlfall",
      "userId": "12893452708265254015"
     },
     "user_tz": -60
    },
    "id": "J-4rh2ScM0v0",
    "outputId": "bd8a3f9e-31a8-4197-99df-31c175c8dce0"
   },
   "outputs": [
    {
     "data": {
      "image/png": "[encoded data removed]",
      "text/plain": [
       "<Figure size 432x288 with 1 Axes>"
      ]
     },
     "metadata": {
      "filenames": {
       "image/png": "/Users/jamesthrelfall/Programs/JTpython/Teaching_Examples/2024/CMP502-505_Maths/_build/jupyter_execute/CMP505/CMP505_rays1_16_0.png"
      },
      "needs_background": "light"
     },
     "output_type": "display_data"
    }
   ],
   "source": [
    "ax = plt.figure().add_subplot(projection='3d')\n",
    "ax.view_init(elev=20, azim=265, roll=0)\n",
    "ax.axes.set_xlim3d(left=-2, right=8) \n",
    "ax.axes.set_ylim3d(bottom=-2, top=8) \n",
    "ax.axes.set_zlim3d(bottom=-2, top=8)\n",
    "ax.set_xlabel('x')\n",
    "ax.set_ylabel('y')\n",
    "ax.set_zlabel('z')\n",
    "plt_sphere(spc,sphere_r)\n",
    "end = (ray.subs(t,3))\n",
    "end=np.array(end.tolist()[0],dtype='float64')\n",
    "arrow_prop_dict = dict(mutation_scale=20, arrowstyle='-|>', color='k', shrinkA=0, shrinkB=0, linewidth=1)\n",
    "b = Arrow3D([ro[0], end[0]], [ro[1], end[1]], [ro[2], end[2]], **arrow_prop_dict)\n",
    "ax.add_artist(b)\n",
    "plt.gca().set_aspect('equal')\n",
    "plt.show() "
   ]
  },
  {
   "cell_type": "markdown",
   "metadata": {
    "id": "l4LSR98-RrM5"
   },
   "source": [
    "In this example, it is clear that the ray misses the sphere, as expected."
   ]
  },
  {
   "cell_type": "markdown",
   "metadata": {
    "id": "_KRGqsstqC5W"
   },
   "source": [
    "## Lecture Example 2: Multiple intersections and normal calculation\n",
    "**Determine the unit normal where the ray from $(1,-2,-1)$ with direction ${\\vec{i}}+2{\\vec{j}}+4{\\vec{k}}$ first intersects the sphere with centre $(3,0,5)$ and radius $3$.**"
   ]
  },
  {
   "cell_type": "markdown",
   "metadata": {
    "id": "IUEzn82ARyCk"
   },
   "source": [
    "We will leave the unit normal calculation until after we have identified all intersections with the object. We'll recycle the same process we used in Example 1, but changing the constants to match the Example 2 values:"
   ]
  },
  {
   "cell_type": "code",
   "execution_count": 9,
   "metadata": {
    "id": "QR25a3EInI9s"
   },
   "outputs": [],
   "source": [
    "r2_o = sym.Matrix([[1, -2, -1]])\n",
    "r2_v = sym.Matrix([[1, 2, 4]]) \n",
    "ray2 = r2_o + t * r2_v\n",
    "s2_c = sym.Matrix([[3, 0, 5]])\n",
    "s2_r = 3\n",
    "s2 = (x - s2_c[0])**2+(y - s2_c[1])**2+(z - s2_c[2])**2-s2_r**2"
   ]
  },
  {
   "cell_type": "markdown",
   "metadata": {
    "id": "C7_y6evh5PmU"
   },
   "source": [
    "We will again use the solve command to allow Python to find values of t when we substitute the parametric forms of the ray equation into the equation of the sphere.\n",
    "\n",
    "Unlike last time, the solution we saw in class implies that we should expect two intersections. The first intersection corresponds to entering the sphere, and the second is when the ray leaves the sphere. We therefore need to arrange the solutions in size order, which the Python \"sort\" function will take care of. We can then print them in order:"
   ]
  },
  {
   "cell_type": "code",
   "execution_count": 10,
   "metadata": {
    "colab": {
     "base_uri": "https://localhost:8080/"
    },
    "executionInfo": {
     "elapsed": 11,
     "status": "ok",
     "timestamp": 1683302444411,
     "user": {
      "displayName": "James Threlfall",
      "userId": "12893452708265254015"
     },
     "user_tz": -60
    },
    "id": "UHmpYrJ-qc8c",
    "outputId": "3dd77670-d21a-4aef-9533-39b46f2f8198"
   },
   "outputs": [
    {
     "name": "stdout",
     "output_type": "stream",
     "text": [
      "intersection 1 found at t=0.816893686730232\n",
      "intersection 2 found at t=2.04024917041263\n"
     ]
    }
   ],
   "source": [
    "sols = sym.solve(s2.subs([(x, ray2[0]), (y, ray2[1]), (z, ray2[2])]),t)\n",
    "sols.sort()\n",
    "for i, val in enumerate(sols):\n",
    "    print(\"intersection {} found at t={}\".format(i+1,val.evalf()))"
   ]
  },
  {
   "cell_type": "markdown",
   "metadata": {
    "id": "zpg6LtoKTYCM"
   },
   "source": [
    "Once again we will likely want to check out some plots to confirm our solutions. For later, we'll again convert the first intersection location and the ray origin to a plottable array. To help us, we'll also pick a much larger value of $t$ and convert the end of this ray to a plottable array: this is so that we can visualise where the ray *would* have ended up had it not intersected the object: "
   ]
  },
  {
   "cell_type": "code",
   "execution_count": 11,
   "metadata": {
    "id": "o0aiqpRZ8LWT"
   },
   "outputs": [],
   "source": [
    "is1  = (ray2.subs(t,sols[0].evalf()))\n",
    "is1a = np.array(is1.tolist()[0],dtype='float64')\n",
    "is2  = (ray2.subs(t,sols[1].evalf()))\n",
    "is2a = np.array(is2.tolist()[0],dtype='float64')\n",
    "r2o  = np.array(r2_o.tolist()[0],dtype='float64')\n",
    "end2 = (ray2.subs(t,10))\n",
    "end2 = np.array(end2.tolist()[0],dtype='float64')\n",
    "sc   = np.array(s2_c.tolist()[0],dtype='float64')"
   ]
  },
  {
   "cell_type": "markdown",
   "metadata": {
    "id": "2lNMBVeXT77I"
   },
   "source": [
    "This example specifically asks for the normal to the sphere at the intersection location. Since we know a general expression for the normal of a sphere at a given point, we can create a custom function to return the normal at any point on the sphere (if provided the centre, radius and location where the normal is to be evaluated):"
   ]
  },
  {
   "cell_type": "code",
   "execution_count": 12,
   "metadata": {
    "id": "APAD-xl48Gyp"
   },
   "outputs": [],
   "source": [
    "def spherenormal(o,r,p):\n",
    "  \"\"\"Function to return normal vector to a sphere at a given point.\n",
    "  Sphere centred on o (3 element list), radius r at point p. \n",
    "  \"\"\"\n",
    "  n = sym.Matrix([[p[0]-o[0], p[1]-o[1], p[2]-o[2]]])\n",
    "  n = n/r\n",
    "  return n"
   ]
  },
  {
   "cell_type": "markdown",
   "metadata": {
    "id": "NUkDDLZwUY1d"
   },
   "source": [
    "To test this routine, we can feed in the sphere centre and radius, together with the intercept location found earlier. "
   ]
  },
  {
   "cell_type": "code",
   "execution_count": 13,
   "metadata": {
    "colab": {
     "base_uri": "https://localhost:8080/"
    },
    "executionInfo": {
     "elapsed": 10,
     "status": "ok",
     "timestamp": 1683302444414,
     "user": {
      "displayName": "James Threlfall",
      "userId": "12893452708265254015"
     },
     "user_tz": -60
    },
    "id": "7UW12Lrl_gTf",
    "outputId": "49d18c3d-0ff1-47e0-b342-44890450a826"
   },
   "outputs": [
    {
     "name": "stdout",
     "output_type": "stream",
     "text": [
      "Matrix([[-0.394368771089923, -0.122070875513179, -0.910808417693024]])\n"
     ]
    }
   ],
   "source": [
    "print(spherenormal(s2_c,s2_r,is1))\n",
    "nhat = spherenormal(s2_c,s2_r,is1)\n",
    "nhat = np.array(nhat.tolist()[0],dtype='float64')"
   ]
  },
  {
   "cell_type": "markdown",
   "metadata": {
    "id": "KTB31FS3UjWl"
   },
   "source": [
    "Once again, these values match the normal calculated in the lectures (to a much higher number of decimal places).\n",
    "\n",
    "\n",
    "---\n",
    "\n",
    "Our final step will be to plot the quantities we have calculated:\n"
   ]
  },
  {
   "cell_type": "code",
   "execution_count": 14,
   "metadata": {
    "colab": {
     "base_uri": "https://localhost:8080/",
     "height": 406
    },
    "executionInfo": {
     "elapsed": 661,
     "status": "ok",
     "timestamp": 1683302445067,
     "user": {
      "displayName": "James Threlfall",
      "userId": "12893452708265254015"
     },
     "user_tz": -60
    },
    "id": "ZxEC74L-C0SH",
    "outputId": "73967678-db13-4073-b87f-2a3c673d461d"
   },
   "outputs": [
    {
     "data": {
      "image/png": "[encoded data removed]",
      "text/plain": [
       "<Figure size 432x288 with 1 Axes>"
      ]
     },
     "metadata": {
      "filenames": {
       "image/png": "/Users/jamesthrelfall/Programs/JTpython/Teaching_Examples/2024/CMP502-505_Maths/_build/jupyter_execute/CMP505/CMP505_rays1_30_0.png"
      },
      "needs_background": "light"
     },
     "output_type": "display_data"
    }
   ],
   "source": [
    "ax = plt.figure().add_subplot(projection='3d')\n",
    "ax.view_init(elev=20, azim=175, roll=0)\n",
    "ax.axes.set_xlim3d(left=-5, right=5) \n",
    "ax.axes.set_ylim3d(bottom=-5, top=5) \n",
    "ax.axes.set_zlim3d(bottom=0, top=10)\n",
    "ax.set_xlabel('x')\n",
    "ax.set_ylabel('y')\n",
    "ax.set_zlabel('z')\n",
    "plt_sphere(sc,s2_r)\n",
    "ax.scatter(is1a[0],is1a[1],is1a[2], c='r', marker='x', s=100) \n",
    "ax.scatter(is2a[0],is2a[1],is2a[2], c='r', marker='x', s=100) \n",
    "arrow_prop_dict = dict(mutation_scale=20, arrowstyle='-|>', color='k', shrinkA=0, shrinkB=0, linewidth=2)\n",
    "a = Arrow3D([r2o[0], is1a[0]], [r2o[1], is1a[1]], [r2o[2], is1a[2]], **arrow_prop_dict)\n",
    "ax.add_artist(a)\n",
    "arrow_prop_dict = dict(mutation_scale=20, arrowstyle='-|>', color='k', shrinkA=0, shrinkB=0, linewidth=1, linestyle=':')\n",
    "b = Arrow3D([r2o[0], end2[0]], [r2o[1], end2[1]], [r2o[2], end2[2]], **arrow_prop_dict)\n",
    "ax.add_artist(b)\n",
    "arrow_prop_dict = dict(mutation_scale=20, arrowstyle='-|>', color='r', shrinkA=0, shrinkB=0, linewidth=2)\n",
    "c = Arrow3D([is1a[0], is1a[0]+2.0*nhat[0]], [is1a[1], is1a[1]+2.0*nhat[1]], [is1a[2], is1a[2]+2.0*nhat[2]], **arrow_prop_dict)\n",
    "ax.add_artist(c)\n",
    "plt.gca().set_aspect('equal')\n",
    "plt.show() "
   ]
  },
  {
   "cell_type": "markdown",
   "metadata": {
    "id": "gGquZt9BB5VM"
   },
   "source": [
    "This 3D image illustrates the ray intersecting the sphere. \n",
    "\n",
    "The intersection locations that we calculated earlier are shown as red crosses, and match the locations that the ray would encounter if it passes the sphere and continues beyond the range of the plot.\n",
    "\n",
    "The normal that we calculated is shown as a red arrow, and also behaves as we would expect (pointing directly away from the sphere surface at the chosen location)."
   ]
  },
  {
   "cell_type": "markdown",
   "metadata": {
    "id": "9FgJ0K42OX5f"
   },
   "source": [
    "We can repeat the same process for any object which is fully described by a mathematical equation. Commmon examples include cones and paraboloids. Some of these objects can be difficult to visualise.\n",
    "\n",
    "\n",
    "## Lecture Example 3: General object\n",
    "**Find the unit normal at the point where the ray from $(-1,2,0)$ to $(3,1,4)$ cuts the hyperbolic paraboloid $x^2-y^2+4z=0$.**"
   ]
  },
  {
   "cell_type": "code",
   "execution_count": 15,
   "metadata": {
    "colab": {
     "base_uri": "https://localhost:8080/",
     "height": 240
    },
    "executionInfo": {
     "elapsed": 10,
     "status": "error",
     "timestamp": 1683647687794,
     "user": {
      "displayName": "James Threlfall",
      "userId": "12893452708265254015"
     },
     "user_tz": -60
    },
    "id": "DKplmjAiPC4R",
    "outputId": "9078d043-d946-471b-85d7-8672362b8232"
   },
   "outputs": [
    {
     "name": "stdout",
     "output_type": "stream",
     "text": [
      "x**2 - y**2 + 4*z\n"
     ]
    }
   ],
   "source": [
    "r3_o = sym.Matrix([[1, -2, -1]])\n",
    "r3_e = sym.Matrix([[1, 2, 4]])\n",
    "t = sym.Symbol('t', positive=True) \n",
    "ray3 = r3_o + t * (r3_e - r3_o)\n",
    "hp = x**2 - y**2 + 4 * z\n",
    "print(hp)"
   ]
  },
  {
   "cell_type": "code",
   "execution_count": 16,
   "metadata": {
    "colab": {
     "base_uri": "https://localhost:8080/"
    },
    "executionInfo": {
     "elapsed": 448,
     "status": "ok",
     "timestamp": 1683302445511,
     "user": {
      "displayName": "James Threlfall",
      "userId": "12893452708265254015"
     },
     "user_tz": -60
    },
    "id": "NBgdCGuGPdmP",
    "outputId": "c3773c09-aef1-4eea-b025-5fe0c59848dc"
   },
   "outputs": [
    {
     "name": "stdout",
     "output_type": "stream",
     "text": [
      "intersection 1 found at t=0.214986263839935\n"
     ]
    }
   ],
   "source": [
    "sols = sym.solve(hp.subs([(x, ray3[0]), (y, ray3[1]), (z, ray3[2])]),t)\n",
    "valid_sols = [i for i in sols if i <= 1]\n",
    "valid_sols.sort()\n",
    "for i, val in enumerate(valid_sols) :\n",
    "    print(\"intersection {} found at t={}\".format(i+1,val.evalf()))"
   ]
  },
  {
   "cell_type": "code",
   "execution_count": 17,
   "metadata": {
    "colab": {
     "base_uri": "https://localhost:8080/"
    },
    "executionInfo": {
     "elapsed": 9,
     "status": "ok",
     "timestamp": 1683302445512,
     "user": {
      "displayName": "James Threlfall",
      "userId": "12893452708265254015"
     },
     "user_tz": -60
    },
    "id": "1_MYB5h2Qvay",
    "outputId": "b2237f49-fc2e-45cb-9275-47c19db2d87b"
   },
   "outputs": [
    {
     "name": "stdout",
     "output_type": "stream",
     "text": [
      "intersection occurs at (1.000,-1.140,0.075)\n"
     ]
    }
   ],
   "source": [
    "is3  = (ray3.subs(t,valid_sols[0].evalf()))\n",
    "is3a = np.array(is3.tolist()[0],dtype='float64')\n",
    "print(\"intersection occurs at ({:0.3f},{:0.3f},{:0.3f})\".format(is3a[0],is3a[1],is3a[2]))"
   ]
  },
  {
   "cell_type": "markdown",
   "metadata": {
    "id": "S0oTvQQWSSaw"
   },
   "source": [
    "In an ideal world we would visually check that the ray intersects this object: Python isn't great for complex visualisation. One way to check what this object looks like is to use a special library that allows you to examine an isosurface of a 3D function like ours. To do this we may have to install a special library called \"plotly\"."
   ]
  },
  {
   "cell_type": "code",
   "execution_count": 18,
   "metadata": {},
   "outputs": [
    {
     "data": {
      "text/plain": [
       "<matplotlib.colorbar.Colorbar at 0x1163befd0>"
      ]
     },
     "execution_count": 18,
     "metadata": {},
     "output_type": "execute_result"
    },
    {
     "data": {
      "image/png": "[encoded data removed]",
      "text/plain": [
       "<Figure size 864x432 with 2 Axes>"
      ]
     },
     "metadata": {
      "filenames": {
       "image/png": "/Users/jamesthrelfall/Programs/JTpython/Teaching_Examples/2024/CMP502-505_Maths/_build/jupyter_execute/CMP505/CMP505_rays1_37_1.png"
      },
      "needs_background": "light"
     },
     "output_type": "display_data"
    }
   ],
   "source": [
    "from matplotlib import cm\n",
    "fig, ax = plt.subplots(subplot_kw={\"projection\": \"3d\"}, figsize=(12,6))\n",
    "\n",
    "X = np.arange(-1, 1, 0.25)\n",
    "Y = np.arange(-1, 1, 0.25)\n",
    "X, Y = np.meshgrid(X, Y)\n",
    "#rearranging the expression to make z the subject:\n",
    "Z = (X*X-Y*Y)/(-4)\n",
    "surf = ax.plot_surface(X, Y, Z, rstride=1, cstride=1, cmap=cm.coolwarm,\n",
    "                       linewidth=0, antialiased=False)\n",
    "ax.set_zlim(-0.51, 0.51)\n",
    "ax.title.set_text('visualising x^2-y^2+4z=0')\n",
    "ax.set_xlabel(\"X Axis\")\n",
    "ax.set_ylabel(\"Y Axis\")\n",
    "ax.set_zlabel(\"Z Axis\")\n",
    "fig.colorbar(surf, shrink=0.5, aspect=10)"
   ]
  },
  {
   "cell_type": "markdown",
   "metadata": {
    "id": "M8IY89z9Sqf2"
   },
   "source": [
    "This function looks like a saddle point: we encountered saddle points when looking at Partial Derivatives. \n",
    "\n",
    "Maybe, using your maths skills, you could check whether this is a true saddle point, **using the second derivative test**?\n",
    "\n",
    "A note of caution: Python can handle some 3D images, but that isn't really what it was made to do. There are other plotting libraries to play with (try \"scikit-image\" for example), but really you already know about graphics programming in other ways!"
   ]
  },
  {
   "cell_type": "markdown",
   "metadata": {
    "id": "gIN3FKqxMxH8"
   },
   "source": [
    "## Over to you\n",
    "Try some more examples from the lectures or the tutorial questions once you are satisfied with the mathematics."
   ]
  },
  {
   "cell_type": "code",
   "execution_count": null,
   "metadata": {
    "id": "GmKprnH5LoHq"
   },
   "outputs": [],
   "source": []
  }
 ],
 "metadata": {
  "colab": {
   "authorship_tag": "ABX9TyPC3nXiKX6je/Fw++e5isqg",
   "provenance": []
  },
  "kernelspec": {
   "display_name": "Python 3 (ipykernel)",
   "language": "python",
   "name": "python3"
  },
  "language_info": {
   "codemirror_mode": {
    "name": "ipython",
    "version": 3
   },
   "file_extension": ".py",
   "mimetype": "text/x-python",
   "name": "python",
   "nbconvert_exporter": "python",
   "pygments_lexer": "ipython3",
   "version": "3.9.21"
  }
 },
 "nbformat": 4,
 "nbformat_minor": 1
}